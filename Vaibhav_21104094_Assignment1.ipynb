{
 "cells": [
  {
   "cell_type": "code",
   "execution_count": 2,
   "metadata": {},
   "outputs": [
    {
     "name": "stdout",
     "output_type": "stream",
     "text": [
      "My Family <--> Name - Amit Kumar, age - 45, relation - Dad <--> Name - Vaibhav, age - 18, relation - me <--> Name - Divya, age - 13, relation - sister <--> Name - Geeta, age - 40, relation - Mom \n"
     ]
    }
   ],
   "source": [
    "class Node:\n",
    "    def __init__(self,Name,relation,Age): \n",
    "        self.data1=Name\n",
    "        self.data3=Age\n",
    "        self.data2=relation\n",
    "        self.next=None\n",
    "        self.prev=None\n",
    "\n",
    "class Family:\n",
    "    def __init__(self):\n",
    "        self.head=None\n",
    "        \n",
    "    def append(self,data1,data2,data3):\n",
    "       if self.head is None:\n",
    "           newnode=Node(data1,data2,data3)\n",
    "           newnode.prev=None\n",
    "           self.head=newnode\n",
    "        #    if the list has no nodes and is empty, we create a new node with the given data and make sure its prev. pointer is empty, then give head the value of that node,\n",
    "       else:\n",
    "           newnode=Node(data1,data2,data3)\n",
    "           cur=self.head\n",
    "           while cur.next:\n",
    "               cur=cur.next\n",
    "           cur.next=newnode \n",
    "           newnode.prev=cur\n",
    "           newnode.next=None\n",
    "        #    list has nodes, we traverse from head till the next node is none, then we give the cur.next the address of newnode, and newnode.prev address of curr node and newnode's next to none\n",
    "        \n",
    "    def prepend(self,data1,data2,data3):\n",
    "        if self.head is None:\n",
    "            newnode=Node(data1,data2,data3)\n",
    "            self.head=newnode\n",
    "            newnode.prev=None\n",
    "            # no element puttiong first\n",
    "        else:\n",
    "            newnode=Node(data1,data2,data3)\n",
    "            cur=self.head\n",
    "            cur.prev=newnode\n",
    "            newnode.next=cur\n",
    "            newnode.prev=None\n",
    "            self.head=newnode\n",
    "            # if there is atleast one element, the head node's prev should point to new, new;s next points to head, new trhen becomes head, it's prev becomes none\n",
    "            \n",
    "    def print(self):\n",
    "        str1=\"\"\n",
    "        cur=self.head\n",
    "        \n",
    "        while cur:\n",
    "            str1+=\"<--> \"+\"Name - \" +str(cur.data1)+\", age - \"+str(cur.data3)+\", \" +\"relation - \"+str(cur.data2) + \" \"\n",
    "            cur=cur.next\n",
    "        print(\"My Family\",str1)\n",
    "dllist=Family()\n",
    "dllist.append(\"Vaibhav\",\"me\",18)\n",
    "dllist.append(\"Divya\",\"sister\",13)\n",
    "dllist.append(\"Geeta\",\"Mom\",40)\n",
    "dllist.prepend(\"Amit Kumar\",\"Dad\",45)\n",
    "\n",
    "dllist.print()\n"
   ]
  }
 ],
 "metadata": {
  "kernelspec": {
   "display_name": "Python 3.10.1 64-bit",
   "language": "python",
   "name": "python3"
  },
  "language_info": {
   "codemirror_mode": {
    "name": "ipython",
    "version": 3
   },
   "file_extension": ".py",
   "mimetype": "text/x-python",
   "name": "python",
   "nbconvert_exporter": "python",
   "pygments_lexer": "ipython3",
   "version": "3.10.1"
  },
  "orig_nbformat": 4,
  "vscode": {
   "interpreter": {
    "hash": "f97e529747ebd75ab7a7eec8530cad2ed8018c456aefe1ed5a69bb21bdfd2052"
   }
  }
 },
 "nbformat": 4,
 "nbformat_minor": 2
}
